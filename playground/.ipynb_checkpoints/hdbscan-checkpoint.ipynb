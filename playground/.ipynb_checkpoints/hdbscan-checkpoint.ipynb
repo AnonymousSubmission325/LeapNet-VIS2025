{
 "cells": [
  {
   "cell_type": "raw",
   "id": "8821c64d-32cb-4966-bf8d-b376c7802a6d",
   "metadata": {},
   "source": [
    "import json\n",
    "import os"
   ]
  },
  {
   "cell_type": "code",
   "execution_count": null,
   "id": "6e93e652-294c-428b-9d31-5fcd1090d827",
   "metadata": {},
   "outputs": [],
   "source": [
    " print(os.getcwd())"
   ]
  },
  {
   "cell_type": "code",
   "execution_count": 2,
   "id": "62e13c37-d619-4022-857d-e4b9be57b442",
   "metadata": {},
   "outputs": [
    {
     "ename": "FileNotFoundError",
     "evalue": "[Errno 2] No such file or directory: '../frontend/static/papers.json'",
     "output_type": "error",
     "traceback": [
      "\u001b[1;31m---------------------------------------------------------------------------\u001b[0m",
      "\u001b[1;31mFileNotFoundError\u001b[0m                         Traceback (most recent call last)",
      "Input \u001b[1;32mIn [2]\u001b[0m, in \u001b[0;36m<cell line: 2>\u001b[1;34m()\u001b[0m\n\u001b[0;32m      1\u001b[0m \u001b[38;5;66;03m# temporal??\u001b[39;00m\n\u001b[1;32m----> 2\u001b[0m \u001b[38;5;28;01mwith\u001b[39;00m \u001b[38;5;28;43mopen\u001b[39;49m\u001b[43m(\u001b[49m\u001b[38;5;124;43m'\u001b[39;49m\u001b[38;5;124;43m../frontend/static/papers.json\u001b[39;49m\u001b[38;5;124;43m'\u001b[39;49m\u001b[43m)\u001b[49m \u001b[38;5;28;01mas\u001b[39;00m f:\n\u001b[0;32m      3\u001b[0m     data \u001b[38;5;241m=\u001b[39m json\u001b[38;5;241m.\u001b[39mload(f)\n\u001b[0;32m      4\u001b[0m \u001b[38;5;66;03m# Convert the data to a DataFrame\u001b[39;00m\n",
      "\u001b[1;31mFileNotFoundError\u001b[0m: [Errno 2] No such file or directory: '../frontend/static/papers.json'"
     ]
    }
   ],
   "source": [
    "# temporal??\n",
    "with open('../frontend/static/papers.json') as f:\n",
    "    data = json.load(f)\n",
    "# Convert the data to a DataFrame\n",
    "papers = pd.DataFrame(data['papers'])\n",
    "orig_papers = papers.copy()\n"
   ]
  },
  {
   "cell_type": "code",
   "execution_count": null,
   "id": "8471bd98-c909-487e-bd4b-7e10955fb1f4",
   "metadata": {},
   "outputs": [],
   "source": []
  }
 ],
 "metadata": {
  "kernelspec": {
   "display_name": "Python 3 (ipykernel)",
   "language": "python",
   "name": "python3"
  },
  "language_info": {
   "codemirror_mode": {
    "name": "ipython",
    "version": 3
   },
   "file_extension": ".py",
   "mimetype": "text/x-python",
   "name": "python",
   "nbconvert_exporter": "python",
   "pygments_lexer": "ipython3",
   "version": "3.10.6"
  }
 },
 "nbformat": 4,
 "nbformat_minor": 5
}
